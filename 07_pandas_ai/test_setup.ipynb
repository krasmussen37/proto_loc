{
 "cells": [
  {
   "cell_type": "markdown",
   "metadata": {},
   "source": [
    "# proto_loc Analytics Platform - Setup Test\n",
    "\n",
    "This notebook tests the basic functionality of the analytics platform components."
   ]
  },
  {
   "cell_type": "code",
   "execution_count": null,
   "metadata": {},
   "outputs": [],
   "source": [
    "import pandas as pd\n",
    "import duckdb\n",
    "import os\n",
    "from pathlib import Path\n",
    "\n",
    "print(\"✓ Basic imports successful\")"
   ]
  },
  {
   "cell_type": "code",
   "execution_count": null,
   "metadata": {},
   "outputs": [],
   "source": [
    "# Test DuckDB connection\n",
    "dev_db_path = \"/app/02_duck_db/02_dev/dev.duckdb\"\n",
    "\n",
    "# Create database if it doesn't exist\n",
    "Path(dev_db_path).parent.mkdir(parents=True, exist_ok=True)\n",
    "\n",
    "conn = duckdb.connect(dev_db_path)\n",
    "conn.execute(\"CREATE SCHEMA IF NOT EXISTS stg\")\n",
    "conn.execute(\"CREATE SCHEMA IF NOT EXISTS mart\")\n",
    "\n",
    "# Test query\n",
    "result = conn.execute(\"SELECT 'Hello from DuckDB!' as message\").fetchall()\n",
    "print(f\"✓ DuckDB connection successful: {result[0][0]}\")\n",
    "\n",
    "conn.close()"
   ]
  },
  {
   "cell_type": "code",
   "execution_count": null,
   "metadata": {},
   "outputs": [],
   "source": [
    "# Test PandasAI (if OpenAI key is available)\n",
    "openai_key = os.getenv('OPENAI_API_KEY')\n",
    "\n",
    "if openai_key and openai_key.strip():\n",
    "    try:\n",
    "        from pandasai import SmartDataframe\n",
    "        from pandasai.llm import OpenAI\n",
    "        \n",
    "        # Create sample data\n",
    "        df = pd.DataFrame({\n",
    "            'country': ['USA', 'UK', 'France', 'Germany', 'Italy'],\n",
    "            'sales': [5000, 3200, 2900, 4100, 2300]\n",
    "        })\n",
    "        \n",
    "        llm = OpenAI(api_token=openai_key)\n",
    "        smart_df = SmartDataframe(df, config={\"llm\": llm})\n",
    "        \n",
    "        print(\"✓ PandasAI setup successful\")\n",
    "        print(\"Sample data:\")\n",
    "        print(df)\n",
    "        \n",
    "    except Exception as e:\n",
    "        print(f\"⚠ PandasAI setup failed: {e}\")\nelse:\n",
    "    print(\"⚠ OpenAI API key not set - PandasAI functionality will be limited\")"
   ]
  }
 ],
 "metadata": {
  "kernelspec": {
   "display_name": "Python 3",
   "language": "python",
   "name": "python3"
  },
  "language_info": {
   "codemirror_mode": {
    "name": "ipython",
    "version": 3
   },
   "file_extension": ".py",
   "name": "python",
   "nbconvert_exporter": "python",
   "pygments_lexer": "ipython3",
   "version": "3.11.0"
  }
 },
 "nbformat": 4,
 "nbformat_minor": 4
}
